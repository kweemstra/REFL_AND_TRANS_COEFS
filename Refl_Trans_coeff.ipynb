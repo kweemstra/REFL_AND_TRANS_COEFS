{
 "cells": [
  {
   "cell_type": "markdown",
   "metadata": {},
   "source": [
    "<div\n",
    "    style='background-image: url(\"FIGURES/TU_Delft_logo.jng\"); padding: 0px;\n",
    "    background-size: cover; border-radius: 10px; height: 250px;\n",
    "    background-position: 50% 50%'>\n",
    "    <div\n",
    "        style=\"float: left; margin: 20px; padding: 10px;\n",
    "        background: rgba(255 , 255 , 255 , 0.8); width: 96%; height: 150px;\n",
    "        border-radius: 10px\">\n",
    "        <div\n",
    "            style=\"position: relative; top: 50%;\n",
    "            transform: translatey(-50%)\">\n",
    "            <div\n",
    "                style=\"font-size: xx-large; font-weight: 900;\n",
    "                color: rgba(0 , 0 , 0 , 0.9);\n",
    "                line-height: 100%\">\n",
    "                Reflection and transmission coefficients associated with a gas-water contact\n",
    "            </div>\n",
    "            <div\n",
    "                style=\"font-size: x-large; padding-top: 40px;\n",
    "                color: rgba(0 , 0 , 0 , 0.8)\">\n",
    "                <p>Jypyter notebook exercise\n",
    "            </div>\n",
    "            <div\n",
    "                style=\"font-size: large; padding-top: 20px;\n",
    "                color: rgba(0 , 0 , 0 , 1.0)\">\n",
    "                Physics for Geosystem (AESM1325) -- MSc GeoEnergy Engineering ($1^{st}$ year)<br> \n",
    "                <em>Iban Masfara & Cornelis Weemstra</em>, CEG, TU Delft\n",
    "            </div>\n",
    "        </div>\n",
    "    </div>\n",
    "</div>"
   ]
  },
  {
   "cell_type": "markdown",
   "metadata": {},
   "source": [
    "In July 2018, the Board of Delft University of Technology has made a decision-in-principle for a next step towards realising a geothermal well, called DAPwell. Drilling will commence at the beginning of 2020 and aims for the water in the so-called Delft sandstone, which, below Delft, can be found at a depth of about 2500 m. In addition to water, however, also can gas be encountered in the sandstone formations in the area close to Delft. To exemplify the potential of seismic exploration for the purpose of detecting (and ideally also locating) a so-called gas-water contact, we will in this computer practical evaluate the reflection and transmission coefficients associated with a (horizontal) interface between a porous sandstone filled with gas and that same sandstone filled with water (for example as in the Figure below).\n",
    "\n",
    "<br><br>      \n",
    "<figure>\n",
    "  <img src=\"./FIGURES/gas_water_contact.png\"  width=\"700\">\n",
    "  <figcaption>Figure 1: <i>Example of a gas-water contact in a simple anticline.</i></figcaption>\n",
    "</figure><br>\n",
    "\n",
    "# Gassmann's equation\n",
    "\n",
    "In this practical, we will employ Gassmann's equation. Given a set of velocities and densities, $\\alpha_1$, $\\beta_1$, $\\rho_1$, corresponding to a rock with an initial set of fluids, Gassmann's equation allows one to compute the velocities and densities of that same rock with another set of fluids, i.e., $\\alpha_2$, $\\beta_2$, $\\rho_2$. The equation is valid for fully saturated, isotropic rocks. Gassmann's equation is frequently used in applied geophysics, in particular because the predicted velocities are quite accurate for seismic frequencies generally employed in the industry (10-100 Hz). For more details regarding Gassmann's equation we refer to Smith et al. (2003).\n",
    "\n",
    "In the context of our gas-water contact problem, Gassmann's equation for fluid substitution reads as follows:<br> <br>\n",
    "\\begin{equation}\n",
    "\\frac{K_{\\mathrm{sat}}^{(fl2)}}{K_{\\mathrm{mat}}-K_{\\mathrm{sat}}^{(fl2)}}-\\frac{K_{\\mathrm{fluid}}^{(fl2)}}{\\phi\\left(K_{\\mathrm{mat}}-K_{\\mathrm{fluid}}^{(fl2)}\\right)}=\\frac{K_{\\mathrm{sat}}^{(fl1)}}{K_{\\mathrm{mat}}-K_{\\mathrm{sat}}^{(fl1)}}-\\frac{K_{\\mathrm{fluid}}^{(fl1)}}{\\phi\\left(K_{\\mathrm{mat}}-K_{\\mathrm{fluid}}^{(fl1)}\\right)}\n",
    "\\end{equation}\n",
    "<br>In general, $K$ is referred to as the bulk modulus. In our context, fluid 1 (<it>fl1</it>) is the gas and fluid 2 (<it>fl2</it>) the water. The specific moduli hence are\n",
    "\n",
    "<ul>\n",
    "<li>$K_{\\mathrm{fluid}}^{(fl1)} \\longrightarrow$ Bulk modulus of the gas (at 2500 m depth)</li>\n",
    "<li>$K_{\\mathrm{fluid}}^{(fl2)} \\longrightarrow$ Bulk modulus of the water (at 2500 m depth)</li>\n",
    "<li>$K_{\\mathrm{sat}}^{(fl1)} \\longrightarrow$ Bulk modulus of the fully gas saturated sandstone (at 2500 m depth)</li>\n",
    "<li>$K_{\\mathrm{sat}}^{(fl2)} \\longrightarrow$ Bulk modulus of the fully water saturated sandstone (at 2500 m depth)</li>\n",
    "<li>$K_{\\mathrm{mat}}\\longrightarrow$ Bulk modulus of the dry rock matrix (sandstone with empty pores at 2500 m depth)</li>\n",
    "<li>$\\phi \\longrightarrow$ Porosity of the sandstone</li>\n",
    "</ul>\n",
    "\n",
    "In addition to the above relation, it can be shown that $\\mu_{sat}^{(fl2)} = \\mu_{sat}^{(fl1)}$ (rigidity is independent of fluid type). Using for the gas-bearing sandstone that $\\alpha_1=3500 \\;m/s$, $\\beta_1=2000\\; m/s$, and $\\rho_1=2460\\; kg/m^3$, $K_{\\mathrm{sat}}^{(fl1)}$ and $\\mu_{sat}^{(fl1)}$ can computed according to\n",
    "\\begin{equation}\n",
    "K_{\\mathrm{sat}}^{(fl1)}=\\rho_1 \\left(\\alpha_1^{2}-\\frac{4}{3}\\beta_1^{2}\\right),\n",
    "\\end{equation}\n",
    "and\n",
    "\\begin{equation}\n",
    "\\mu_{\\mathrm{sat}}^{(fl1)}=\\rho_1 \\beta^{2},\n",
    "\\end{equation}\n",
    "respectively. Substituting these in Gassmann's equation for fluid substitution and additionally using that $K_{\\mathrm{mat}}=37\\times10^9 \\; Pa$, $K_{\\mathrm{fluid}}^{(fl1)}=25\\times10^7 \\; Pa$, $K_{\\mathrm{fluid}}^{(fl2)}=33\\times 10^8\\;Pa$, and assuming $\\phi=0.3$ (The Delft sandstone is known to have porosities up to 30\\%), $K_{\\mathrm{sat}}^{(fl2)}$ can straightforwardly be computed.\n",
    "\n",
    "The density of the water-bearing sandstone can be computed through,\n",
    "\\begin{equation}\n",
    "\\rho_2=\\rho_1+\\phi \\left(\\rho_{\\text {fluid}}^{(fl2)}-\\rho_{\\text {fluid }}^{(fl1)}\\right),\n",
    "\\end{equation}\n",
    "where  $\\rho_{\\text {fluid }}^{(fl1)}$ and $\\rho_{\\text {fluid}}^{(fl2)}$ can be assumed to be $197\\;kg/m^3$ and $1172\\;kg/m^3$, respectively. The seismic velocities of the water bearing sandstone ($\\alpha_2$ and $\\beta_2$) can now be computed according to\n",
    "\\begin{equation}\n",
    "\\alpha_2=\\sqrt{\\frac{K_{\\mathrm{sat}}^{(fl2)}+\\frac{4}{3} \\mu_{\\mathrm{sat}}^{(fl2)}}{\\rho_2}},\n",
    "\\end{equation}\n",
    "and\n",
    "\\begin{equation}\n",
    "\\beta_2=\\sqrt{\\frac{\\mu_{\\mathrm{sat}}^{(fl2)}}{\\rho_2}}.\n",
    "\\end{equation}\n",
    "\n",
    "<br>\n",
    "**References**<br>\n",
    "Smith, T. M., Sondergeld, C. H., & Rai, C. S. (2003). Gassmann fluid substitutions: A tutorial. Geophysics, 68(2), 430–440. https://doi.org/10.1190/1.1567211\n"
   ]
  },
  {
   "cell_type": "markdown",
   "metadata": {},
   "source": [
    "# Reflection and transmission coefficients\n",
    "\n",
    "Consider the configuration below, which coincides with the configuration in the reader. In this notebook, you will evaluate the angle dependence of the reflection and transmission coefficients associated with the incident P wave. Below we have already translated the matrix equation introduced in the reader into python code. Your task is twofold. First, use Gassmann's equation to compute the mass density and P- and S-wave velocity of the water-bearing sandstone. This is clearly explained above (all the necessary values are given), so should be straightforward. Second, plot the angle dependence of the reflection and transmission coefficients of both P and SV waves. Simply looping over the incident angle (up to the critical angle) and plotting the associated coefficients suffices. \n",
    "\n",
    "<br><br>      \n",
    "<figure>\n",
    "  <img src=\"./FIGURES/fig1.png\"  width=\"800\">\n",
    "  <figcaption>Figure 2: <i>The wave system and coordinates for analysis of the reflected and transmitted waves set up by a plane P-wave incident on the boundary between a gas and water-bearing sandstone. The upper half-space (gas-bearing sandstone) is characterized by a P-wave velocity of $\\alpha_1$, an S-wave velocity of $\\beta_1$, and a density $\\rho_1$. The lower half-space (water-bearing sandstone) is characterized by a P-wave velocity of $\\alpha_2$, an S-wave velocity of $\\beta_2$, and a density of $\\rho_2$. The angles associated with the incident, reflected, and transmitted waves are indicated. By Snell's law, $i_1^*=i_1$. Note that the particle motion of the P waves is parallel to the direction of propagation, whereas the particle motion of the SV wave is perpendicular to its propagation (but sill in the x-z plane).</i></figcaption>\n",
    "</figure><br>\n",
    "\n"
   ]
  },
  {
   "cell_type": "code",
   "execution_count": 47,
   "metadata": {
    "code_folding": [
     0
    ]
   },
   "outputs": [],
   "source": [
    "#import all package\n",
    "import numpy as np\n",
    "import math as mt\n",
    "import matplotlib.pyplot as plt\n",
    "plt.style.use('fivethirtyeight')"
   ]
  },
  {
   "cell_type": "code",
   "execution_count": 48,
   "metadata": {
    "code_folding": [
     0
    ]
   },
   "outputs": [
    {
     "name": "stdout",
     "output_type": "stream",
     "text": [
      "\n",
      "Gas-bearing sandstone; vp = 3500.000000|vs = 2000.000000|density = 2460.000000|\n",
      "Water-bearing sandstone; vp = 3459.988019|vs = 1890.749026|density = 2752.500000|\n",
      "\n"
     ]
    }
   ],
   "source": [
    "# Wave propagation parameters for gas-bearing sandstone [P-wave velocity, S-wave velocity and density]\n",
    "rho1,alpha1,beta1 = 2460, 3500, 2000\n",
    "\n",
    "# Additional parameters required in Gassmann's equation for fluid substitution\n",
    "K_gas = 25*10**7\n",
    "K_water = 33*10**8\n",
    "rho_gas = 197\n",
    "rho_water = 1172\n",
    "K_matrix = 37*10**9\n",
    "porosity = 0.30\n",
    "\n",
    "# Compute bulk and shear modulus of the gas saturated sandstone\n",
    "K_sat_gas = rho1*(alpha1**2 - (4./3.)*(beta1**2))\n",
    "mu_sat_gas = rho1*(beta1**2)\n",
    "\n",
    "# Compute bulk and shear modulus of the water saturated sandstone\n",
    "term2 = K_water/(porosity*(K_matrix-K_water))\n",
    "term3 = K_sat_gas/(K_matrix-K_sat_gas)\n",
    "term4 = -1*(K_gas/(porosity*(K_matrix-K_gas)))\n",
    "K_sat_water = 1/(((1/(term2+term3+term4))+1)/K_matrix)\n",
    "mu_sat_water = mu_sat_gas\n",
    "\n",
    "# Compute wave propagation parameters for water-bearing sandstone [P-wave velocity, S-wave velocity and density]\n",
    "rho2 = rho1 + porosity*(rho_water-rho_gas)\n",
    "alpha2 = mt.sqrt((K_sat_water+(4./3.)*mu_sat_water)/rho2)\n",
    "beta2 = mt.sqrt(mu_sat_water/rho2)\n",
    "\n",
    "print('')\n",
    "print('Gas-bearing sandstone; vp = %f|vs = %f|density = %f|'%(alpha1,beta1,rho1))\n",
    "print('Water-bearing sandstone; vp = %f|vs = %f|density = %f|'%(alpha2,beta2,rho2))\n",
    "print('')"
   ]
  },
  {
   "cell_type": "markdown",
   "metadata": {},
   "source": [
    "# Snell's law \n",
    "\\begin{equation}\n",
    "\\frac{\\sin i_{1}}{\\alpha_{1}}=\\frac{\\sin i_{1}^{*}}{\\alpha_{1}}=\\frac{\\sin j_{1}^{*}}{\\beta_{1}}=\\frac{\\sin i_{2}}{\\alpha_{2}}=\\frac{\\sin j_{2}}{\\beta_{2}}\n",
    "\\end{equation}"
   ]
  },
  {
   "cell_type": "code",
   "execution_count": 49,
   "metadata": {},
   "outputs": [],
   "source": [
    "# Function that returns the angles of the reflected and transmitted rays (in degrees) using Snell's law\n",
    "def angle(inc_angle,prnt1):\n",
    "    i1     = np.radians(inc_angle)\n",
    "    j1     = mt.asin(mt.sin(i1)*beta1/alpha1)\n",
    "    i2     = mt.asin(mt.sin(i1)*alpha2/alpha1)\n",
    "    j2     = mt.asin(mt.sin(i1)*beta2/alpha1)\n",
    "    \n",
    "    if prnt1 == True:\n",
    "        print('i1 = %i\\u00b0    j1 = %i\\u00b0    i2 = %i\\u00b0    j2 = %i\\u00b0  '%(np.degrees(i1),np.degrees(j1),np.degrees(i2),np.rad2deg(j2)))\n",
    "    else:\n",
    "        pass\n",
    "    \n",
    "    return(np.degrees(i1),np.degrees(j1),np.degrees(i2),np.rad2deg(j2))\n",
    "\n",
    "# functions to calculate each coefficient given the angle of incidence\n",
    "def coeffs(inc_angle,alpha1,beta1,rho1,alpha2,beta2,rho2,prnt2):\n",
    "    i1degr,j1degr,i2degr,j2degr = angle(inc_angle,prnt1=prnt2)\n",
    "    i1 = mt.radians(i1degr)\n",
    "    j1 = mt.radians(j1degr)\n",
    "    i2 = mt.radians(i2degr)\n",
    "    j2 = mt.radians(j2degr)\n",
    "    \n",
    "    # parameters b,c,d,and e\n",
    "    b = mt.cos(i1)/alpha1\n",
    "    c = mt.cos(i2)/alpha2\n",
    "    d = mt.cos(j1)/beta1\n",
    "    e = mt.cos(j2)/beta2\n",
    "        \n",
    "    # parameters f,g,and h\n",
    "    f = beta2/beta1\n",
    "    g = rho2/rho1\n",
    "    h = alpha2/alpha1\n",
    "    \n",
    "    # ray parameter\n",
    "    p  = mt.sin(i1)/alpha1\n",
    "    \n",
    "    if prnt2 == True:\n",
    "        print('b  = %f  | c  = %f  | d = %f  | e  = %f  |'%(b,c,d,e))\n",
    "        print('f  = %f  | g =  %f  | h = %f  '%(f,g,h))\n",
    "        print('p  = %f  '%(p))\n",
    "        print('')\n",
    "    else:\n",
    "        pass\n",
    "    \n",
    "\n",
    "    # Actual Matrix inversion    \n",
    "    A = np.array([\n",
    "     [p,-p,d,e],\n",
    "     [-b,-c,p,-p],\n",
    "     [2*b*p,2*c*p*g*(f**2),d**2-p**2,-1.*g*f**2*(e**2 - p**2)],\n",
    "     [(b**2+p**2)/beta1**2-2*p**2/alpha1**2,2*g*p**2*f**2/alpha1**2 - g*h**2*(c**2+p**2)/beta1**2,-2*p*d/alpha1**2,-2*p*e*g*f**2/alpha1**2]])\n",
    "\n",
    "    B = ([[-p,-b,2*b*p,2*p**2/alpha1**2-(b**2+p**2)/beta1**2]])\n",
    "\n",
    "    x = np.linalg.solve(A, np.transpose(B))\n",
    "\n",
    "    # calculate displacements coefficients\n",
    "    x[0] = x[0]\n",
    "    x[1] = x[1]*(alpha1/alpha2) \n",
    "    x[2] = x[2]*(alpha1/beta1)\n",
    "    x[3] = x[3]*(alpha1/beta2)\n",
    "    \n",
    "    if prnt2 == True:\n",
    "        print('displacement amplitude reflection coefficients')\n",
    "        print('incident  P    | angle:%i\\u00b0 |amplitude:%i'%(inc_angle,1))\n",
    "        print('reflected P    | angle:%i\\u00b0 |amplitude:%f'%(i1degr,x[0]))\n",
    "        print('transmitted P  | angle:%i\\u00b0 |amplitude:%f'%(i2degr,x[1]))\n",
    "        print('reflected SV   | angle:%i\\u00b0 |amplitude:%f'%(j1degr,x[2]))\n",
    "        print('transmitted SV | angle:%i\\u00b0 |amplitude:%f'%(j2degr,x[3]))\n",
    "        print('')\n",
    "        print('')\n",
    "        print('')\n",
    "    else:\n",
    "        pass\n",
    "    \n",
    "    return(x)"
   ]
  },
  {
   "cell_type": "markdown",
   "metadata": {},
   "source": [
    "\n",
    "\\begin{equation}\n",
    "\\left[\\begin{array}{cccc}{p} & {-p} & {d} & {e} \\\\ {-b} & {-c} & {p} & {-p} \\\\ {2 b p} & {2 c p f^{2} g} & {\\left(d^{2}-p^{2}\\right)} & {-f^{2}g\\left(e^{2}-p^{2}\\right)} \\\\ {\\left(\\frac{b^2 + p^2}{\\beta_1^2} - \\frac{2p^2}{\\alpha_1^2} \\right)} & {\\left(\\frac{2p^2f^2g}{\\alpha_1^2} - \\frac{h^2g\\left(c^2+p^2\\right)}{\\beta_1^2}\\right)} & {\\frac{-2 p d}{\\alpha_1^2}} & {\\frac{-2 p e f^{2} g}{\\alpha_1^2}}\\end{array}\\right]\\left[\\begin{array}{c}{B/A} \\\\ {C/A} \\\\ {D/A} \\\\ {E/A}\\end{array}\\right]=\\left[\\begin{array}{c}{-p} \\\\ {-b} \\\\ {2bp} \\\\ {\\frac{2p^2}{\\alpha_1^2} - \\left(\\frac{b^2+p^2}{\\beta_1^2}\\right)}\\end{array}\\right]\n",
    "\\end{equation}\n",
    "\n"
   ]
  },
  {
   "cell_type": "code",
   "execution_count": 52,
   "metadata": {},
   "outputs": [
    {
     "name": "stdout",
     "output_type": "stream",
     "text": [
      "critical angle = 90.000000°\n"
     ]
    },
    {
     "data": {
      "image/png": "[encoded data removed]",
      "text/plain": [
       "<Figure size 864x576 with 1 Axes>"
      ]
     },
     "metadata": {},
     "output_type": "display_data"
    }
   ],
   "source": [
    "# check critical angle\n",
    "if alpha2<alpha1:\n",
    "    crit=90.\n",
    "else:\n",
    "    crit = mt.degrees(mt.asin((alpha1/alpha2)))\n",
    "print('critical angle = %f\\u00b0'%(crit)) \n",
    "\n",
    "\n",
    "# number of discrete angles to check\n",
    "ma = np.linspace(0, crit, num=201)\n",
    "\n",
    "#container for the amplitudes\n",
    "B = np.zeros(len(ma),)\n",
    "C = np.zeros(len(ma),)\n",
    "D = np.zeros(len(ma),)\n",
    "E = np.zeros(len(ma),)\n",
    "\n",
    "#loop over all the angles\n",
    "for i,degr in enumerate(ma):\n",
    "    #i1degr,j1degr,i2degr,j2degr = angle(degr,prnt1=False)\n",
    "    x = coeffs(degr,alpha1,beta1,rho1,alpha2,beta2,rho2,prnt2=False)\n",
    "    B[i] = x[0]\n",
    "    C[i] = x[1]\n",
    "    D[i] = x[2]\n",
    "    E[i] = x[3]\n",
    "    \n",
    "#plotting  \n",
    "plt.figure(figsize=(12,8))\n",
    "plt.plot(ma,B,color='b',label='reflected P')\n",
    "plt.plot(ma,C,color='y',label='transmitted P')\n",
    "plt.plot(ma,D,color='g',label='reflected S')\n",
    "plt.plot(ma,E,color='m',label='transmitted S')\n",
    "plt.xlim(0,crit)\n",
    "plt.ylim(-1.1,1.1)\n",
    "plt.xlabel('angle')\n",
    "plt.ylabel('amplitude')\n",
    "plt.legend(loc='upper left', frameon=True)\n",
    "plt.show()"
   ]
  },
  {
   "cell_type": "code",
   "execution_count": null,
   "metadata": {},
   "outputs": [],
   "source": []
  }
 ],
 "metadata": {
  "kernelspec": {
   "display_name": "Python 3",
   "language": "python",
   "name": "python3"
  },
  "language_info": {
   "codemirror_mode": {
    "name": "ipython",
    "version": 3
   },
   "file_extension": ".py",
   "mimetype": "text/x-python",
   "name": "python",
   "nbconvert_exporter": "python",
   "pygments_lexer": "ipython3",
   "version": "3.7.3"
  },
  "varInspector": {
   "cols": {
    "lenName": 16,
    "lenType": 16,
    "lenVar": 40
   },
   "kernels_config": {
    "python": {
     "delete_cmd_postfix": "",
     "delete_cmd_prefix": "del ",
     "library": "var_list.py",
     "varRefreshCmd": "print(var_dic_list())"
    },
    "r": {
     "delete_cmd_postfix": ") ",
     "delete_cmd_prefix": "rm(",
     "library": "var_list.r",
     "varRefreshCmd": "cat(var_dic_list()) "
    }
   },
   "types_to_exclude": [
    "module",
    "function",
    "builtin_function_or_method",
    "instance",
    "_Feature"
   ],
   "window_display": false
  }
 },
 "nbformat": 4,
 "nbformat_minor": 2
}
